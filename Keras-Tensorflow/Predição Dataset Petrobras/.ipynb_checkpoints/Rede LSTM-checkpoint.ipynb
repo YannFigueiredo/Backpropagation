{
 "cells": [
  {
   "cell_type": "code",
   "execution_count": 81,
   "metadata": {},
   "outputs": [],
   "source": [
    "import pandas as pd\n",
    "import numpy as np\n",
    "from sklearn.preprocessing import MinMaxScaler"
   ]
  },
  {
   "cell_type": "code",
   "execution_count": 82,
   "metadata": {},
   "outputs": [],
   "source": [
    "base = pd.read_csv(\"dataset/petr4-treinamento.csv\")\n",
    "base = base.dropna()"
   ]
  },
  {
   "cell_type": "code",
   "execution_count": 83,
   "metadata": {},
   "outputs": [],
   "source": [
    "base_treinamento = base.iloc[:, 1:2].values\n",
    "normalizador = MinMaxScaler(feature_range=(0, 1))\n",
    "base_treinamento_normalizada = normalizador.fit_transform(base_treinamento)"
   ]
  },
  {
   "cell_type": "code",
   "execution_count": 84,
   "metadata": {},
   "outputs": [],
   "source": [
    "base_teste = pd.read_csv('dataset/petr4-teste.csv')\n",
    "preco_real_teste = base_teste.iloc[:, 1:2].values\n",
    "\n",
    "base_completa = pd.concat((base['Open'], base_teste['Open']), axis=0)\n",
    "\n",
    "entradas = base_completa[len(base_completa) - len(base_teste)-90:].values\n",
    "entradas = entradas.reshape(-1, 1)\n",
    "entradas = normalizador.transform(entradas)"
   ]
  },
  {
   "cell_type": "code",
   "execution_count": 118,
   "metadata": {
    "scrolled": true
   },
   "outputs": [],
   "source": [
    "entradas = base_completa[len(base_completa) - len(base_teste)-90:].values\n",
    "entradas = entradas.reshape(-1, 1)\n",
    "entradas = normalizador.transform(entradas)"
   ]
  },
  {
   "cell_type": "code",
   "execution_count": 101,
   "metadata": {},
   "outputs": [
    {
     "data": {
      "text/plain": [
       "array([13.93    , 13.76    , 13.79    , 13.53    , 13.85    , 13.96    ,\n",
       "       14.57    , 14.65    , 15.02    , 15.1     , 14.88    , 14.98    ,\n",
       "       14.94    , 15.03    , 15.07    , 15.02    , 15.1     , 15.25    ,\n",
       "       15.85    , 15.6     , 15.79    , 15.86    , 15.7     , 15.37    ,\n",
       "       15.5     , 15.19    , 15.6     , 15.9     , 15.88    , 15.66    ,\n",
       "       15.61    , 16.129999, 16.17    , 16.08    , 16.23    , 16.16    ,\n",
       "       16.139999, 16.219999, 16.      , 16.190001, 16.290001, 16.290001,\n",
       "       16.530001, 16.780001, 16.77    , 16.969999, 16.9     , 16.99    ,\n",
       "       16.9     , 16.959999, 17.049999, 17.309999, 16.690001, 16.889999,\n",
       "       16.709999, 16.690001, 16.639999, 15.35    , 15.62    , 15.92    ,\n",
       "       16.02    , 16.15    , 16.09    , 15.98    , 16.25    , 16.01    ,\n",
       "       15.93    , 15.87    , 15.3     , 15.34    , 15.65    , 15.5     ,\n",
       "       15.22    , 15.3     , 15.51    , 15.48    , 15.36    , 15.65    ,\n",
       "       15.1     , 15.05    , 15.16    , 15.18    , 15.21    , 15.31    ,\n",
       "       15.75    , 15.75    , 15.75    , 15.99    , 16.1     , 16.1     ,\n",
       "       16.190001, 16.49    , 16.780001, 16.700001, 16.74    , 17.030001,\n",
       "       16.92    , 16.879999, 17.040001, 17.32    , 17.35    , 17.92    ,\n",
       "       18.35    , 18.309999, 18.26    , 18.4     , 18.42    , 19.34    ,\n",
       "       19.620001, 19.67    , 19.77    , 19.74    ])"
      ]
     },
     "execution_count": 101,
     "metadata": {},
     "output_type": "execute_result"
    }
   ],
   "source": [
    "entradas"
   ]
  },
  {
   "cell_type": "code",
   "execution_count": 119,
   "metadata": {},
   "outputs": [
    {
     "data": {
      "text/plain": [
       "array([[0.47141473],\n",
       "       [0.46317829],\n",
       "       [0.46463178],\n",
       "       [0.45203488],\n",
       "       [0.46753876],\n",
       "       [0.47286822],\n",
       "       [0.50242248],\n",
       "       [0.50629845],\n",
       "       [0.52422481],\n",
       "       [0.52810078],\n",
       "       [0.51744186],\n",
       "       [0.52228682],\n",
       "       [0.52034884],\n",
       "       [0.5247093 ],\n",
       "       [0.52664729],\n",
       "       [0.52422481],\n",
       "       [0.52810078],\n",
       "       [0.53536822],\n",
       "       [0.56443798],\n",
       "       [0.55232558],\n",
       "       [0.56153101],\n",
       "       [0.56492248],\n",
       "       [0.55717054],\n",
       "       [0.54118217],\n",
       "       [0.54748062],\n",
       "       [0.53246124],\n",
       "       [0.55232558],\n",
       "       [0.56686047],\n",
       "       [0.56589147],\n",
       "       [0.55523256],\n",
       "       [0.55281008],\n",
       "       [0.57800383],\n",
       "       [0.57994186],\n",
       "       [0.5755814 ],\n",
       "       [0.58284884],\n",
       "       [0.57945736],\n",
       "       [0.57848832],\n",
       "       [0.58236429],\n",
       "       [0.57170543],\n",
       "       [0.5809109 ],\n",
       "       [0.58575586],\n",
       "       [0.58575586],\n",
       "       [0.59738377],\n",
       "       [0.60949617],\n",
       "       [0.60901163],\n",
       "       [0.6187015 ],\n",
       "       [0.61531008],\n",
       "       [0.61967054],\n",
       "       [0.61531008],\n",
       "       [0.61821701],\n",
       "       [0.62257747],\n",
       "       [0.63517437],\n",
       "       [0.60513571],\n",
       "       [0.61482553],\n",
       "       [0.6061046 ],\n",
       "       [0.60513571],\n",
       "       [0.60271313],\n",
       "       [0.54021318],\n",
       "       [0.55329457],\n",
       "       [0.56782946],\n",
       "       [0.57267442],\n",
       "       [0.57897287],\n",
       "       [0.57606589],\n",
       "       [0.57073643],\n",
       "       [0.58381783],\n",
       "       [0.57218992],\n",
       "       [0.56831395],\n",
       "       [0.56540698],\n",
       "       [0.5377907 ],\n",
       "       [0.53972868],\n",
       "       [0.55474806],\n",
       "       [0.54748062],\n",
       "       [0.53391473],\n",
       "       [0.5377907 ],\n",
       "       [0.54796512],\n",
       "       [0.54651163],\n",
       "       [0.54069767],\n",
       "       [0.55474806],\n",
       "       [0.52810078],\n",
       "       [0.52567829],\n",
       "       [0.53100775],\n",
       "       [0.53197674],\n",
       "       [0.53343023],\n",
       "       [0.53827519],\n",
       "       [0.55959302],\n",
       "       [0.55959302],\n",
       "       [0.55959302],\n",
       "       [0.57122093],\n",
       "       [0.57655039],\n",
       "       [0.57655039],\n",
       "       [0.5809109 ],\n",
       "       [0.59544574],\n",
       "       [0.60949617],\n",
       "       [0.6056202 ],\n",
       "       [0.60755814],\n",
       "       [0.62160858],\n",
       "       [0.61627907],\n",
       "       [0.61434104],\n",
       "       [0.62209307],\n",
       "       [0.63565891],\n",
       "       [0.6371124 ],\n",
       "       [0.66472868],\n",
       "       [0.68556202],\n",
       "       [0.68362398],\n",
       "       [0.68120155],\n",
       "       [0.6879845 ],\n",
       "       [0.68895349],\n",
       "       [0.73352713],\n",
       "       [0.74709307],\n",
       "       [0.7495155 ],\n",
       "       [0.75436047],\n",
       "       [0.75290698]])"
      ]
     },
     "execution_count": 119,
     "metadata": {},
     "output_type": "execute_result"
    }
   ],
   "source": [
    "entradas"
   ]
  },
  {
   "cell_type": "code",
   "execution_count": null,
   "metadata": {},
   "outputs": [],
   "source": []
  }
 ],
 "metadata": {
  "kernelspec": {
   "display_name": "Python 3",
   "language": "python",
   "name": "python3"
  },
  "language_info": {
   "codemirror_mode": {
    "name": "ipython",
    "version": 3
   },
   "file_extension": ".py",
   "mimetype": "text/x-python",
   "name": "python",
   "nbconvert_exporter": "python",
   "pygments_lexer": "ipython3",
   "version": "3.7.6"
  }
 },
 "nbformat": 4,
 "nbformat_minor": 4
}
