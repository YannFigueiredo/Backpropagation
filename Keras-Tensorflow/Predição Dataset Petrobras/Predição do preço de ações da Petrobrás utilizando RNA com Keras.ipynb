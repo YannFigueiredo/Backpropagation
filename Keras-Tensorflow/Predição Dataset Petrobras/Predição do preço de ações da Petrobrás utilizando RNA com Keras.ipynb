{
 "cells": [
  {
   "cell_type": "markdown",
   "metadata": {},
   "source": [
    "## Predição do preço de ações da Petrobrás utilizando RNA com Keras"
   ]
  },
  {
   "cell_type": "markdown",
   "metadata": {},
   "source": [
    "Aluno: Yann Fabricio Cardoso de Figueiredo <br />\n",
    "Matrícula: 201704940026"
   ]
  },
  {
   "cell_type": "markdown",
   "metadata": {},
   "source": [
    "## Descrição da base de dados\n",
    "\n",
    "O dataset utilizado para fazer a predição proposta é referente ao preço de ações da Petrobrás na bolsa de valores, e este foi retirado do repositório do Yahoo Finanças. Os dados foram extraídos e catalogados de acordo com o valor de abertura e fechamento do dia.\n",
    "No total há 1267 dados, sendo referentes ao valores de ações dos anos 2013 a 2018."
   ]
  },
  {
   "cell_type": "markdown",
   "metadata": {},
   "source": [
    "## Algoritmo\n",
    "\n",
    "O algoritmo utilizado foi desenvolvido utilizando a biblioteca Keras juntamente de outros frameworks para auxiliar em diversas partes do código como pré-pocessamento de dados, por exemplo. Nas simulações foram utlizados duas versões do algoritmo, sendo um de rede direta e outro recorrente (modelo LSTM). <br />\n",
    "No geral, como padrão, os algoritmos usam como função de perda o erro quadrático médio, uma porcentagem dropout de 20%, função de ativação linear e o otimizador adam. São utlizadas 4 camadas, sendo a de entrada e ocultas criadas em modelo LSTM e a de saída como Dense."
   ]
  },
  {
   "cell_type": "code",
   "execution_count": null,
   "metadata": {},
   "outputs": [
    {
     "name": "stderr",
     "output_type": "stream",
     "text": [
      "Using TensorFlow backend.\n"
     ]
    },
    {
     "name": "stdout",
     "output_type": "stream",
     "text": [
      "Epoch 1/100\n",
      "1152/1152 [==============================] - 4s 3ms/step - loss: 0.0753 - mean_absolute_error: 0.2153\n",
      "Epoch 2/100\n",
      " 736/1152 [==================>...........] - ETA: 0s - loss: 0.0201 - mean_absolute_error: 0.1088"
     ]
    }
   ],
   "source": [
    "#RNA DE REDE RECORRENTE LSTM\n",
    "\n",
    "import numpy as np\n",
    "import pandas as pd\n",
    "import matplotlib.pyplot as plt\n",
    "from keras.models import Sequential\n",
    "from keras.layers import Dense, Dropout, LSTM\n",
    "from sklearn.preprocessing import MinMaxScaler\n",
    "\n",
    "#Leitura da base de dados\n",
    "base = pd.read_csv(\"dataset/petr4-treinamento.csv\")\n",
    "base = base.dropna() #Remove as linhas onde há colunas com valores faltantes\n",
    "\n",
    "#Normalização de dimensionamento de recursos\n",
    "base_treinamento = base.iloc[:, 1:2].values\n",
    "normalizador = MinMaxScaler(feature_range=(0, 1))\n",
    "base_treinamento_normalizada = normalizador.fit_transform(base_treinamento)\n",
    "\n",
    "#Criando uma estrutura de dados com 90 timesteps e 1 output\n",
    "x_treino = []\n",
    "y_treino = []\n",
    "\n",
    "for i in range(90, 1242):\n",
    "\tx_treino.append(base_treinamento_normalizada[i-90:i, 0])\n",
    "\ty_treino.append(base_treinamento_normalizada[i, 0])\n",
    "\n",
    "x_treino, y_treino = np.array(x_treino), np.array(y_treino)\n",
    "\n",
    "#Remodelando\n",
    "x_treino = np.reshape(x_treino, (x_treino.shape[0], x_treino.shape[1], 1))\n",
    "\n",
    "### Predição na base de teste ###\n",
    "\n",
    "base_teste = pd.read_csv('dataset/petr4-teste.csv')\n",
    "preco_real_teste = base_teste.iloc[:, 1:2].values\n",
    "\n",
    "base_completa = pd.concat((base['Open'], base_teste['Open']), axis=0)\n",
    "\n",
    "entradas = base_completa[len(base_completa) - len(base_teste)-90:].values\n",
    "entradas = entradas.reshape(-1, 1)\n",
    "entradas = normalizador.transform(entradas)\n",
    "\n",
    "x_teste = []\n",
    "for i in range(90, 112):\n",
    "    x_teste.append(entradas[i-90:i, 0])\n",
    "\n",
    "x_teste = np.array(x_teste)\n",
    "x_teste = np.reshape(x_teste, (x_teste.shape[0], x_teste.shape[1], 1))\n",
    "\n",
    "#Criando modelo\n",
    "model = Sequential()\n",
    "\n",
    "#Adicionando camadas LSTM e alguma regularização de Dropout\n",
    "model.add(LSTM(units=10,return_sequences=True,input_shape=(x_treino.shape[1], 1)))\n",
    "model.add(Dropout(0.2))\n",
    "model.add(LSTM(units=10,return_sequences=True))\n",
    "model.add(Dropout(0.2))\n",
    "model.add(LSTM(units=10))\n",
    "model.add(Dropout(0.2))\n",
    "model.add(Dense(units=1, activation='linear'))\n",
    "model.compile(optimizer='adam',loss='mean_squared_error', metrics=['mean_absolute_error'])\n",
    "model.fit(x_treino, y_treino, epochs=100, batch_size=32)\n",
    "\n",
    "preco_predito = model.predict(x_teste)\n",
    "preco_predito = normalizador.inverse_transform(preco_predito)\n",
    "\n",
    "#Plotando resultados\n",
    "plt.plot(preco_real_teste, color = 'black', label = 'Preço real')\n",
    "plt.plot(preco_predito, color = 'green', label = 'Preço predito')\n",
    "plt.title('Predição do preço de ações da Petrobrás')\n",
    "plt.xlabel('Tempo')\n",
    "plt.ylabel('Preço das ações')\n",
    "plt.legend()\n",
    "plt.show()"
   ]
  },
  {
   "cell_type": "markdown",
   "metadata": {},
   "source": [
    "## Simulações"
   ]
  },
  {
   "cell_type": "markdown",
   "metadata": {},
   "source": [
    "![title](img/simulacao1.png)\n",
    "**<div style=\"text-align: center\">Figura 1 - Gráfico obtido na 1ª simulação</div>**"
   ]
  },
  {
   "cell_type": "markdown",
   "metadata": {},
   "source": [
    "A simulação mostrada na figura 1 proporcionou um modelo de RNA com erro médio quadrático de 0.0183, e é possível observar que o preço predito não condiz ao real com relação a oscilações das ações, o que acaba dificultando a previsão de altas e baixas das ações na bolsa de valores. <br />\n",
    "\n",
    "A configuração usada foi:\n",
    "- batch_size = 32\n",
    "- epochs = 100"
   ]
  },
  {
   "cell_type": "code",
   "execution_count": null,
   "metadata": {},
   "outputs": [],
   "source": []
  }
 ],
 "metadata": {
  "kernelspec": {
   "display_name": "Python 3",
   "language": "python",
   "name": "python3"
  },
  "language_info": {
   "codemirror_mode": {
    "name": "ipython",
    "version": 3
   },
   "file_extension": ".py",
   "mimetype": "text/x-python",
   "name": "python",
   "nbconvert_exporter": "python",
   "pygments_lexer": "ipython3",
   "version": "3.7.7"
  }
 },
 "nbformat": 4,
 "nbformat_minor": 4
}
