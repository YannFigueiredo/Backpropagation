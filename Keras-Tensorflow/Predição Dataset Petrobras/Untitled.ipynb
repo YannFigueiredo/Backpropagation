{
 "cells": [
  {
   "cell_type": "code",
   "execution_count": 1,
   "metadata": {},
   "outputs": [
    {
     "name": "stderr",
     "output_type": "stream",
     "text": [
      "Using TensorFlow backend.\n"
     ]
    }
   ],
   "source": [
    "import keras\n",
    "import numpy as np\n",
    "import pandas as pd\n",
    "from keras import backend as K\n",
    "import matplotlib.pyplot as plt\n",
    "from keras.models import Sequential\n",
    "from keras.layers import Dense, Dropout, LSTM\n",
    "from sklearn.preprocessing import MinMaxScaler"
   ]
  },
  {
   "cell_type": "code",
   "execution_count": 7,
   "metadata": {},
   "outputs": [],
   "source": [
    "base = pd.read_csv(\"dataset/petr4-treinamento.csv\")\n",
    "base = base.dropna() #Remove as linhas onde há colunas com valores faltantes\n",
    "\n",
    "#Normalização de dimensionamento de recursos\n",
    "base_treinamento = base.iloc[:, 1:2].values\n",
    "normalizador = MinMaxScaler(feature_range=(0, 1))\n",
    "base_treinamento_normalizada = normalizador.fit_transform(base_treinamento)\n",
    "\n",
    "#Criando uma estrutura de dados com 90 timesteps e 1 output\n",
    "x_treino = []\n",
    "y_treino = []\n",
    "\n",
    "for i in range(90, 1242):\n",
    "\tx_treino.append(base_treinamento_normalizada[i-90:i, 0])\n",
    "\ty_treino.append(base_treinamento_normalizada[i, 0])\n",
    "\n",
    "x_treino, y_treino = np.array(x_treino), np.array(y_treino)\n",
    "\n",
    "#Remodelando\n",
    "#x_treino = np.reshape(x_treino, (x_treino.shape[0], x_treino.shape[1], 1))"
   ]
  },
  {
   "cell_type": "code",
   "execution_count": 11,
   "metadata": {},
   "outputs": [
    {
     "name": "stdout",
     "output_type": "stream",
     "text": [
      "1242\n"
     ]
    }
   ],
   "source": [
    "print(len(base_treinamento))"
   ]
  },
  {
   "cell_type": "code",
   "execution_count": null,
   "metadata": {},
   "outputs": [],
   "source": [
    "print(y_treino)"
   ]
  },
  {
   "cell_type": "code",
   "execution_count": 6,
   "metadata": {},
   "outputs": [
    {
     "name": "stdout",
     "output_type": "stream",
     "text": [
      "(90, 1)\n"
     ]
    }
   ],
   "source": [
    "input_shape=(x_treino.shape[1], 1)\n",
    "print(input_shape)"
   ]
  },
  {
   "cell_type": "code",
   "execution_count": null,
   "metadata": {},
   "outputs": [],
   "source": []
  }
 ],
 "metadata": {
  "kernelspec": {
   "display_name": "Python 3",
   "language": "python",
   "name": "python3"
  },
  "language_info": {
   "codemirror_mode": {
    "name": "ipython",
    "version": 3
   },
   "file_extension": ".py",
   "mimetype": "text/x-python",
   "name": "python",
   "nbconvert_exporter": "python",
   "pygments_lexer": "ipython3",
   "version": "3.7.7"
  }
 },
 "nbformat": 4,
 "nbformat_minor": 4
}
